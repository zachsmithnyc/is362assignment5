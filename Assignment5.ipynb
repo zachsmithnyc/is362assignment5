{
 "cells": [
  {
   "attachments": {},
   "cell_type": "markdown",
   "metadata": {},
   "source": [
    "# Assignment 5\n",
    "\n",
    "For this assignment we were tasked with answering these three questions:\n",
    "\n",
    "1. What is the northernmost airport in the United States? \n",
    "Wiley Post Will Rogers Memorial\n",
    "\n",
    "2. What is the easternmost airport in the United States? \n",
    "Eastport Municipal \n",
    "\n",
    "3. On February 12th, 2013, which New York area airport had the windiest weather? \n",
    "Laguardia\n",
    "\n",
    "To begin I took the csv files from the provided github repository. The I read them into pandas dataframe objects for analysis. "
   ]
  },
  {
   "cell_type": "code",
   "execution_count": 125,
   "metadata": {},
   "outputs": [],
   "source": [
    "import numpy as np\n",
    "import pandas as pd\n",
    "import datetime\n",
    "\n",
    "df_airlines = pd.read_csv('airlines.csv')\n",
    "df_airports = pd.read_csv('airports.csv')\n",
    "df_planes = pd.read_csv('planes.csv')\n",
    "df_weather = pd.read_csv('weather.csv')"
   ]
  },
  {
   "attachments": {},
   "cell_type": "markdown",
   "metadata": {},
   "source": [
    "Next I'm going to take a look at each dataframe to see what calculations I need to do to answer the questions. "
   ]
  },
  {
   "cell_type": "code",
   "execution_count": 126,
   "metadata": {},
   "outputs": [
    {
     "data": {
      "text/plain": [
       "  carrier                    name\n",
       "0      9E       Endeavor Air Inc.\n",
       "1      AA  American Airlines Inc.\n",
       "2      AS    Alaska Airlines Inc.\n",
       "3      B6         JetBlue Airways\n",
       "4      DL    Delta Air Lines Inc."
      ]
     },
     "execution_count": 126,
     "metadata": {},
     "output_type": "execute_result"
    }
   ],
   "source": [
    "df_airlines.head()"
   ]
  },
  {
   "cell_type": "code",
   "execution_count": 127,
   "metadata": {},
   "outputs": [
    {
     "data": {
      "text/plain": [
       "   faa                           name        lat        lon   alt  tz dst  \\\n",
       "0  04G              Lansdowne Airport  41.130472 -80.619583  1044  -5   A   \n",
       "1  06A  Moton Field Municipal Airport  32.460572 -85.680028   264  -6   A   \n",
       "2  06C            Schaumburg Regional  41.989341 -88.101243   801  -6   A   \n",
       "3  06N                Randall Airport  41.431912 -74.391561   523  -5   A   \n",
       "4  09J          Jekyll Island Airport  31.074472 -81.427778    11  -5   A   \n",
       "\n",
       "              tzone  \n",
       "0  America/New_York  \n",
       "1   America/Chicago  \n",
       "2   America/Chicago  \n",
       "3  America/New_York  \n",
       "4  America/New_York  "
      ]
     },
     "execution_count": 127,
     "metadata": {},
     "output_type": "execute_result"
    }
   ],
   "source": [
    "df_airports.head()"
   ]
  },
  {
   "cell_type": "code",
   "execution_count": 128,
   "metadata": {},
   "outputs": [
    {
     "data": {
      "text/plain": [
       "  tailnum    year                     type      manufacturer      model  \\\n",
       "0  N10156  2004.0  Fixed wing multi engine           EMBRAER  EMB-145XR   \n",
       "1  N102UW  1998.0  Fixed wing multi engine  AIRBUS INDUSTRIE   A320-214   \n",
       "2  N103US  1999.0  Fixed wing multi engine  AIRBUS INDUSTRIE   A320-214   \n",
       "3  N104UW  1999.0  Fixed wing multi engine  AIRBUS INDUSTRIE   A320-214   \n",
       "4  N10575  2002.0  Fixed wing multi engine           EMBRAER  EMB-145LR   \n",
       "\n",
       "   engines  seats  speed     engine  \n",
       "0        2     55    NaN  Turbo-fan  \n",
       "1        2    182    NaN  Turbo-fan  \n",
       "2        2    182    NaN  Turbo-fan  \n",
       "3        2    182    NaN  Turbo-fan  \n",
       "4        2     55    NaN  Turbo-fan  "
      ]
     },
     "execution_count": 128,
     "metadata": {},
     "output_type": "execute_result"
    }
   ],
   "source": [
    "df_planes.head()"
   ]
  },
  {
   "cell_type": "code",
   "execution_count": 129,
   "metadata": {},
   "outputs": [
    {
     "data": {
      "text/plain": [
       "  origin  year  month  day  hour  ...  wind_gust  precip  pressure  visib  \\\n",
       "0    EWR  2013      1    1     1  ...        NaN     0.0    1012.0   10.0   \n",
       "1    EWR  2013      1    1     2  ...        NaN     0.0    1012.3   10.0   \n",
       "2    EWR  2013      1    1     3  ...        NaN     0.0    1012.5   10.0   \n",
       "3    EWR  2013      1    1     4  ...        NaN     0.0    1012.2   10.0   \n",
       "4    EWR  2013      1    1     5  ...        NaN     0.0    1011.9   10.0   \n",
       "\n",
       "              time_hour  \n",
       "0  2013-01-01T06:00:00Z  \n",
       "1  2013-01-01T07:00:00Z  \n",
       "2  2013-01-01T08:00:00Z  \n",
       "3  2013-01-01T09:00:00Z  \n",
       "4  2013-01-01T10:00:00Z  \n",
       "\n",
       "[5 rows x 15 columns]"
      ]
     },
     "execution_count": 129,
     "metadata": {},
     "output_type": "execute_result"
    }
   ],
   "source": [
    "df_weather.head()"
   ]
  },
  {
   "cell_type": "markdown",
   "metadata": {},
   "source": [
    "What we have discovered is that the airports data frame provides us with latitutde and longitude coordinates which we can use to find out the answer to our first question. \n",
    "\n",
    "Before we do that though we should clean up our data a bit. Let's see if we have any missing data is the airports dataframe. We will use the isnull() and sum() methods to add up anything. "
   ]
  },
  {
   "cell_type": "code",
   "execution_count": 130,
   "metadata": {},
   "outputs": [
    {
     "data": {
      "text/plain": [
       "faa      0\n",
       "name     0\n",
       "lat      0\n",
       "lon      0\n",
       "alt      0\n",
       "tz       0\n",
       "dst      0\n",
       "tzone    3\n",
       "dtype: int64"
      ]
     },
     "execution_count": 130,
     "metadata": {},
     "output_type": "execute_result"
    }
   ],
   "source": [
    "df_airports.isnull().sum()"
   ]
  },
  {
   "cell_type": "markdown",
   "metadata": {},
   "source": [
    "We are only missing a few timezones so we should have no problem calculating the northern and eastern most airports. \n",
    "\n",
    "Our northern most airports should be the one which has the highest latitudinal value. That's is because the higher the value is the further north it is located. "
   ]
  },
  {
   "cell_type": "code",
   "execution_count": 131,
   "metadata": {},
   "outputs": [
    {
     "data": {
      "text/plain": [
       "faa                          EEN\n",
       "name     Dillant Hopkins Airport\n",
       "lat                    72.270833\n",
       "lon                    42.898333\n",
       "alt                          149\n",
       "tz                            -5\n",
       "dst                            A\n",
       "tzone                        NaN\n",
       "Name: 417, dtype: object"
      ]
     },
     "execution_count": 131,
     "metadata": {},
     "output_type": "execute_result"
    }
   ],
   "source": [
    "northairport = df_airports.lat.idxmax()\n",
    "df_airports.loc[northairport]"
   ]
  },
  {
   "attachments": {},
   "cell_type": "markdown",
   "metadata": {},
   "source": [
    "Unfortunately we have an empty value where we should have had the timezone labeled. Without a timezone it's difficult to tell if this airport is in the U.S. or not so we will have to make sure. \n",
    "\n",
    "We will do that my matching the tz -5 value with other tz values in our data frame. "
   ]
  },
  {
   "cell_type": "code",
   "execution_count": 132,
   "metadata": {},
   "outputs": [
    {
     "data": {
      "text/plain": [
       "   faa                            name        lat        lon   alt  tz dst  \\\n",
       "0  04G               Lansdowne Airport  41.130472 -80.619583  1044  -5   A   \n",
       "3  06N                 Randall Airport  41.431912 -74.391561   523  -5   A   \n",
       "4  09J           Jekyll Island Airport  31.074472 -81.427778    11  -5   A   \n",
       "5  0A9  Elizabethton Municipal Airport  36.371222 -82.173417  1593  -5   A   \n",
       "6  0G6         Williams County Airport  41.467306 -84.506778   730  -5   A   \n",
       "\n",
       "              tzone  \n",
       "0  America/New_York  \n",
       "3  America/New_York  \n",
       "4  America/New_York  \n",
       "5  America/New_York  \n",
       "6  America/New_York  "
      ]
     },
     "execution_count": 132,
     "metadata": {},
     "output_type": "execute_result"
    }
   ],
   "source": [
    "df_airports[df_airports.tz == -5].head()"
   ]
  },
  {
   "cell_type": "markdown",
   "metadata": {},
   "source": [
    "This would seem to confirm that it is indeed the northern most airport. However, a little research tells us that almost all U.S. locations east of alaska are below the 49th paralell. In fact plugging this airport's coordinates into google maps gives us a location which is in the sea somewhere north of the scandanavian penninsula. \n",
    "\n",
    "We will not lose heart though. We will build on our research and assume that the northern most airport must be somewhere in Alaska. So we will narrow our data down to only airports located in the American/Anchorage timezone. "
   ]
  },
  {
   "cell_type": "code",
   "execution_count": 133,
   "metadata": {},
   "outputs": [
    {
     "data": {
      "text/plain": [
       "faa                             BRW\n",
       "name     Wiley Post Will Rogers Mem\n",
       "lat                       71.285446\n",
       "lon                     -156.766003\n",
       "alt                              44\n",
       "tz                               -9\n",
       "dst                               A\n",
       "tzone             America/Anchorage\n",
       "Name: 230, dtype: object"
      ]
     },
     "execution_count": 133,
     "metadata": {},
     "output_type": "execute_result"
    }
   ],
   "source": [
    "alaskaair = df_airports[df_airports.tz == -9]\n",
    "northern = alaskaair.lat.idxmax()\n",
    "alaskaair.loc[northern]"
   ]
  },
  {
   "cell_type": "markdown",
   "metadata": {},
   "source": [
    "This give us our answer which we confirmed with a quick google. \n",
    "\n",
    "The answer to question 1 is: \n",
    "\n",
    "What is the nortern most airport in the United States?\n",
    "Wiley Post Will Rogers Memorial Airport"
   ]
  },
  {
   "cell_type": "markdown",
   "metadata": {},
   "source": [
    "Lets try the same method to find the easternmost airport. Postitive longitudes are east and negative are west so we will again just look for the max value. "
   ]
  },
  {
   "cell_type": "code",
   "execution_count": 134,
   "metadata": {},
   "outputs": [
    {
     "data": {
      "text/plain": [
       "faa                    SYA\n",
       "name          Eareckson As\n",
       "lat              52.712275\n",
       "lon              174.11362\n",
       "alt                     98\n",
       "tz                      -9\n",
       "dst                      A\n",
       "tzone    America/Anchorage\n",
       "Name: 1290, dtype: object"
      ]
     },
     "execution_count": 134,
     "metadata": {},
     "output_type": "execute_result"
    }
   ],
   "source": [
    "eastairport = df_airports.lon.idxmax()\n",
    "df_airports.loc[eastairport]"
   ]
  },
  {
   "cell_type": "markdown",
   "metadata": {},
   "source": [
    "This airport is an interesting case. When we look at it on the map it would seem like it was actually the western most airport in the U.S. that is because it is so far west that it's coordinates are in the positive again. \n",
    "\n",
    "We will use a similar solution to this question as we did for the previous one and assume that the eastern most airport has to be somewhere in the New York time zone. Most of the longitudes in the U.S. are negative but the one that is closest to zero should still be the one furtherest east and so we will still be looking for the max value. "
   ]
  },
  {
   "cell_type": "code",
   "execution_count": 135,
   "metadata": {},
   "outputs": [
    {
     "data": {
      "text/plain": [
       "faa                          EEN\n",
       "name     Dillant Hopkins Airport\n",
       "lat                    72.270833\n",
       "lon                    42.898333\n",
       "alt                          149\n",
       "tz                            -5\n",
       "dst                            A\n",
       "tzone                        NaN\n",
       "Name: 417, dtype: object"
      ]
     },
     "execution_count": 135,
     "metadata": {},
     "output_type": "execute_result"
    }
   ],
   "source": [
    "newyorkair = df_airports[df_airports.tz == -5]\n",
    "eastern = newyorkair.lon.idxmax()\n",
    "newyorkair.loc[eastern]"
   ]
  },
  {
   "cell_type": "markdown",
   "metadata": {},
   "source": [
    "There is the pesky Dillant Hopkins Airport again. Further research tells us that the latitude and longitude values of this airport are actually reversed. So we'll fix that so we can finally get our answer. "
   ]
  },
  {
   "cell_type": "code",
   "execution_count": 136,
   "metadata": {},
   "outputs": [
    {
     "data": {
      "text/plain": [
       "faa                          EEN\n",
       "name     Dillant Hopkins Airport\n",
       "lat                    42.898333\n",
       "lon                   -72.270833\n",
       "alt                          149\n",
       "tz                            -5\n",
       "dst                            A\n",
       "tzone                        NaN\n",
       "Name: 417, dtype: object"
      ]
     },
     "execution_count": 136,
     "metadata": {},
     "output_type": "execute_result"
    }
   ],
   "source": [
    "df_airports1 = df_airports.replace({'lat': 72.270833}, 42.898333)\n",
    "df_airports2 = df_airports1.replace({'lon': 42.898333}, -72.270833)\n",
    "df_airports2.loc[417]"
   ]
  },
  {
   "cell_type": "markdown",
   "metadata": {},
   "source": [
    "now that we have this airport located correctly let's try that again. "
   ]
  },
  {
   "cell_type": "code",
   "execution_count": 137,
   "metadata": {},
   "outputs": [
    {
     "data": {
      "text/plain": [
       "faa                             EPM\n",
       "name     Eastport Municipal Airport\n",
       "lat                       44.910111\n",
       "lon                      -67.012694\n",
       "alt                              45\n",
       "tz                               -5\n",
       "dst                               A\n",
       "tzone              America/New_York\n",
       "Name: 444, dtype: object"
      ]
     },
     "execution_count": 137,
     "metadata": {},
     "output_type": "execute_result"
    }
   ],
   "source": [
    "newyorkair = df_airports2[df_airports2.tz == -5]\n",
    "eastern = newyorkair.lon.idxmax()\n",
    "newyorkair.loc[eastern]"
   ]
  },
  {
   "cell_type": "markdown",
   "metadata": {},
   "source": [
    "Answer to question 2:\n",
    "\n",
    "What is the easternmost airport in the United States? \n",
    "Eastport Municipal Airport "
   ]
  },
  {
   "cell_type": "markdown",
   "metadata": {},
   "source": [
    "Only one more question to go. We will be looking for weather conditions for three specific airports on a specific date. We will quickly check to make sure the data in our dataframe is suitable for analysis. "
   ]
  },
  {
   "cell_type": "code",
   "execution_count": 138,
   "metadata": {},
   "outputs": [
    {
     "data": {
      "text/plain": [
       "origin           0\n",
       "year             0\n",
       "month            0\n",
       "day              0\n",
       "hour             0\n",
       "             ...  \n",
       "wind_gust    20778\n",
       "precip           0\n",
       "pressure      2729\n",
       "visib            0\n",
       "time_hour        0\n",
       "Length: 15, dtype: int64"
      ]
     },
     "execution_count": 138,
     "metadata": {},
     "output_type": "execute_result"
    }
   ],
   "source": [
    "df_weather.isnull().sum()"
   ]
  },
  {
   "attachments": {},
   "cell_type": "markdown",
   "metadata": {},
   "source": [
    "This shows us that there are many missing values in the wind gust column. We will have to be wary of this when performing our analysis. \n",
    "\n",
    "First we need to separate out our data into three separate dataframes for all the hours of the day at each airport. We will then use our mathematical functions to calculate which airport had the windiest conditions. "
   ]
  },
  {
   "cell_type": "code",
   "execution_count": 139,
   "metadata": {},
   "outputs": [
    {
     "data": {
      "text/plain": [
       "     origin  year  month  day  hour  ...  wind_gust  precip  pressure  visib  \\\n",
       "1006    EWR  2013      2   12     0  ...        NaN     0.0    1006.9   10.0   \n",
       "1007    EWR  2013      2   12     1  ...        NaN     0.0    1007.2   10.0   \n",
       "1008    EWR  2013      2   12     2  ...   25.31716     0.0    1007.8   10.0   \n",
       "1009    EWR  2013      2   12     3  ...        NaN     0.0    1008.3   10.0   \n",
       "1010    EWR  2013      2   12     4  ...        NaN     0.0    1008.8   10.0   \n",
       "...     ...   ...    ...  ...   ...  ...        ...     ...       ...    ...   \n",
       "1025    EWR  2013      2   12    19  ...        NaN     0.0    1015.0   10.0   \n",
       "1026    EWR  2013      2   12    20  ...        NaN     0.0    1013.9   10.0   \n",
       "1027    EWR  2013      2   12    21  ...        NaN     0.0    1013.0   10.0   \n",
       "1028    EWR  2013      2   12    22  ...        NaN     0.0    1013.4   10.0   \n",
       "1029    EWR  2013      2   12    23  ...        NaN     0.0    1013.7   10.0   \n",
       "\n",
       "                 time_hour  \n",
       "1006  2013-02-12T05:00:00Z  \n",
       "1007  2013-02-12T06:00:00Z  \n",
       "1008  2013-02-12T07:00:00Z  \n",
       "1009  2013-02-12T08:00:00Z  \n",
       "1010  2013-02-12T09:00:00Z  \n",
       "...                    ...  \n",
       "1025  2013-02-13T00:00:00Z  \n",
       "1026  2013-02-13T01:00:00Z  \n",
       "1027  2013-02-13T02:00:00Z  \n",
       "1028  2013-02-13T03:00:00Z  \n",
       "1029  2013-02-13T04:00:00Z  \n",
       "\n",
       "[24 rows x 15 columns]"
      ]
     },
     "execution_count": 139,
     "metadata": {},
     "output_type": "execute_result"
    }
   ],
   "source": [
    "ewr = df_weather[(df_weather.origin == 'EWR') & \n",
    "                 (df_weather.year == 2013) & \n",
    "                 (df_weather.month == 2) & \n",
    "                 (df_weather.day == 12)]\n",
    "ewr"
   ]
  },
  {
   "cell_type": "code",
   "execution_count": 140,
   "metadata": {},
   "outputs": [
    {
     "data": {
      "text/plain": [
       "     origin  year  month  day  hour  ...  wind_gust  precip  pressure  visib  \\\n",
       "9709    JFK  2013      2   12     0  ...        NaN     0.0    1007.1   10.0   \n",
       "9710    JFK  2013      2   12     1  ...        NaN     0.0    1007.3    7.0   \n",
       "9711    JFK  2013      2   12     2  ...   24.16638     0.0    1007.7   10.0   \n",
       "9712    JFK  2013      2   12     3  ...   26.46794     0.0    1008.5   10.0   \n",
       "9713    JFK  2013      2   12     4  ...   21.86482     0.0    1009.0   10.0   \n",
       "...     ...   ...    ...  ...   ...  ...        ...     ...       ...    ...   \n",
       "9728    JFK  2013      2   12    19  ...        NaN     0.0    1015.1   10.0   \n",
       "9729    JFK  2013      2   12    20  ...        NaN     0.0    1014.1   10.0   \n",
       "9730    JFK  2013      2   12    21  ...        NaN     0.0    1013.3   10.0   \n",
       "9731    JFK  2013      2   12    22  ...        NaN     0.0    1013.4   10.0   \n",
       "9732    JFK  2013      2   12    23  ...        NaN     0.0    1014.0   10.0   \n",
       "\n",
       "                 time_hour  \n",
       "9709  2013-02-12T05:00:00Z  \n",
       "9710  2013-02-12T06:00:00Z  \n",
       "9711  2013-02-12T07:00:00Z  \n",
       "9712  2013-02-12T08:00:00Z  \n",
       "9713  2013-02-12T09:00:00Z  \n",
       "...                    ...  \n",
       "9728  2013-02-13T00:00:00Z  \n",
       "9729  2013-02-13T01:00:00Z  \n",
       "9730  2013-02-13T02:00:00Z  \n",
       "9731  2013-02-13T03:00:00Z  \n",
       "9732  2013-02-13T04:00:00Z  \n",
       "\n",
       "[24 rows x 15 columns]"
      ]
     },
     "execution_count": 140,
     "metadata": {},
     "output_type": "execute_result"
    }
   ],
   "source": [
    "jfk = df_weather[(df_weather.origin == 'JFK') & \n",
    "                 (df_weather.year == 2013) & \n",
    "                 (df_weather.month == 2) & \n",
    "                 (df_weather.day == 12)]\n",
    "jfk"
   ]
  },
  {
   "cell_type": "code",
   "execution_count": 141,
   "metadata": {},
   "outputs": [
    {
     "data": {
      "text/plain": [
       "      origin  year  month  day  hour  ...  wind_gust  precip  pressure  visib  \\\n",
       "18415    LGA  2013      2   12     0  ...        NaN     0.0       NaN   10.0   \n",
       "18416    LGA  2013      2   12     1  ...   28.76950     0.0    1006.6   10.0   \n",
       "18417    LGA  2013      2   12     2  ...   31.07106     0.0    1007.1   10.0   \n",
       "18418    LGA  2013      2   12     3  ...   28.76950     0.0    1007.9   10.0   \n",
       "18419    LGA  2013      2   12     4  ...        NaN     0.0    1008.3   10.0   \n",
       "...      ...   ...    ...  ...   ...  ...        ...     ...       ...    ...   \n",
       "18434    LGA  2013      2   12    19  ...   21.86482     0.0    1014.7   10.0   \n",
       "18435    LGA  2013      2   12    20  ...        NaN     0.0    1013.6   10.0   \n",
       "18436    LGA  2013      2   12    21  ...        NaN     0.0    1012.8   10.0   \n",
       "18437    LGA  2013      2   12    22  ...        NaN     0.0    1012.7   10.0   \n",
       "18438    LGA  2013      2   12    23  ...        NaN     0.0    1013.5   10.0   \n",
       "\n",
       "                  time_hour  \n",
       "18415  2013-02-12T05:00:00Z  \n",
       "18416  2013-02-12T06:00:00Z  \n",
       "18417  2013-02-12T07:00:00Z  \n",
       "18418  2013-02-12T08:00:00Z  \n",
       "18419  2013-02-12T09:00:00Z  \n",
       "...                     ...  \n",
       "18434  2013-02-13T00:00:00Z  \n",
       "18435  2013-02-13T01:00:00Z  \n",
       "18436  2013-02-13T02:00:00Z  \n",
       "18437  2013-02-13T03:00:00Z  \n",
       "18438  2013-02-13T04:00:00Z  \n",
       "\n",
       "[24 rows x 15 columns]"
      ]
     },
     "execution_count": 141,
     "metadata": {},
     "output_type": "execute_result"
    }
   ],
   "source": [
    "lga = df_weather[(df_weather.origin == 'LGA') & \n",
    "                 (df_weather.year == 2013) & \n",
    "                 (df_weather.month == 2) & \n",
    "                 (df_weather.day == 12)]\n",
    "lga"
   ]
  },
  {
   "cell_type": "markdown",
   "metadata": {},
   "source": [
    "Now the best method is probably get the mean value for wind gust speeds at each airport and see which has the highest value. "
   ]
  },
  {
   "cell_type": "code",
   "execution_count": 142,
   "metadata": {},
   "outputs": [
    {
     "data": {
      "text/plain": [
       "25.1733125"
      ]
     },
     "execution_count": 142,
     "metadata": {},
     "output_type": "execute_result"
    }
   ],
   "source": [
    "ewr.wind_gust.mean()"
   ]
  },
  {
   "cell_type": "code",
   "execution_count": 143,
   "metadata": {},
   "outputs": [
    {
     "data": {
      "text/plain": [
       "24.58484545454546"
      ]
     },
     "execution_count": 143,
     "metadata": {},
     "output_type": "execute_result"
    }
   ],
   "source": [
    "jfk.wind_gust.mean()"
   ]
  },
  {
   "cell_type": "code",
   "execution_count": 144,
   "metadata": {},
   "outputs": [
    {
     "data": {
      "text/plain": [
       "24.885617500000006"
      ]
     },
     "execution_count": 144,
     "metadata": {},
     "output_type": "execute_result"
    }
   ],
   "source": [
    "lga.wind_gust.mean()"
   ]
  },
  {
   "cell_type": "markdown",
   "metadata": {},
   "source": [
    "At first glance it would seem like Newark had the windiest conditions on this date, but we need to check our data for outliers to make sure. "
   ]
  },
  {
   "cell_type": "code",
   "execution_count": 145,
   "metadata": {},
   "outputs": [
    {
     "data": {
      "text/plain": [
       "16"
      ]
     },
     "execution_count": 145,
     "metadata": {},
     "output_type": "execute_result"
    }
   ],
   "source": [
    "ewr.wind_gust.isnull().sum()"
   ]
  },
  {
   "cell_type": "code",
   "execution_count": 146,
   "metadata": {},
   "outputs": [
    {
     "data": {
      "text/plain": [
       "13"
      ]
     },
     "execution_count": 146,
     "metadata": {},
     "output_type": "execute_result"
    }
   ],
   "source": [
    "jfk.wind_gust.isnull().sum()"
   ]
  },
  {
   "cell_type": "code",
   "execution_count": 147,
   "metadata": {},
   "outputs": [
    {
     "data": {
      "text/plain": [
       "8"
      ]
     },
     "execution_count": 147,
     "metadata": {},
     "output_type": "execute_result"
    }
   ],
   "source": [
    "lga.wind_gust.isnull().sum()"
   ]
  },
  {
   "attachments": {},
   "cell_type": "markdown",
   "metadata": {},
   "source": [
    "By checking for null values we see that Newark actually has the highest number of blank spaces in it's data set which means that although there may have been brief periods of strong wind gust it was actually a pretty calm day in New Jersey. The smaller number of values is adding up to a higher average wind rate. What we are going to do is assume that the blank values in the data are wind speeds of zero. Using pandas we will replace them this way. "
   ]
  },
  {
   "cell_type": "code",
   "execution_count": 157,
   "metadata": {},
   "outputs": [
    {
     "data": {
      "text/plain": [
       "1006     0.00000\n",
       "1007     0.00000\n",
       "1008    25.31716\n",
       "1009     0.00000\n",
       "1010     0.00000\n",
       "          ...   \n",
       "1025     0.00000\n",
       "1026     0.00000\n",
       "1027     0.00000\n",
       "1028     0.00000\n",
       "1029     0.00000\n",
       "Name: wind_gust, Length: 24, dtype: float64"
      ]
     },
     "execution_count": 157,
     "metadata": {},
     "output_type": "execute_result"
    }
   ],
   "source": [
    "ewr_wind = ewr.wind_gust.fillna(0)\n",
    "ewr_wind"
   ]
  },
  {
   "cell_type": "code",
   "execution_count": 159,
   "metadata": {},
   "outputs": [
    {
     "data": {
      "text/plain": [
       "9709     0.00000\n",
       "9710     0.00000\n",
       "9711    24.16638\n",
       "9712    26.46794\n",
       "9713    21.86482\n",
       "          ...   \n",
       "9728     0.00000\n",
       "9729     0.00000\n",
       "9730     0.00000\n",
       "9731     0.00000\n",
       "9732     0.00000\n",
       "Name: wind_gust, Length: 24, dtype: float64"
      ]
     },
     "execution_count": 159,
     "metadata": {},
     "output_type": "execute_result"
    }
   ],
   "source": [
    "jfk_wind = jfk.wind_gust.fillna(0)\n",
    "jfk_wind"
   ]
  },
  {
   "cell_type": "code",
   "execution_count": 160,
   "metadata": {},
   "outputs": [
    {
     "data": {
      "text/plain": [
       "18415     0.00000\n",
       "18416    28.76950\n",
       "18417    31.07106\n",
       "18418    28.76950\n",
       "18419     0.00000\n",
       "           ...   \n",
       "18434    21.86482\n",
       "18435     0.00000\n",
       "18436     0.00000\n",
       "18437     0.00000\n",
       "18438     0.00000\n",
       "Name: wind_gust, Length: 24, dtype: float64"
      ]
     },
     "execution_count": 160,
     "metadata": {},
     "output_type": "execute_result"
    }
   ],
   "source": [
    "lga_wind = lga.wind_gust.fillna(0)\n",
    "lga_wind"
   ]
  },
  {
   "cell_type": "markdown",
   "metadata": {},
   "source": [
    "Our mean values should now more accurately represent the wind conditions. "
   ]
  },
  {
   "cell_type": "code",
   "execution_count": 165,
   "metadata": {},
   "outputs": [
    {
     "data": {
      "text/plain": [
       "8.391104166666667"
      ]
     },
     "execution_count": 165,
     "metadata": {},
     "output_type": "execute_result"
    }
   ],
   "source": [
    "ewr_wind.mean()"
   ]
  },
  {
   "cell_type": "code",
   "execution_count": 166,
   "metadata": {},
   "outputs": [
    {
     "data": {
      "text/plain": [
       "11.268054166666667"
      ]
     },
     "execution_count": 166,
     "metadata": {},
     "output_type": "execute_result"
    }
   ],
   "source": [
    "jfk_wind.mean()"
   ]
  },
  {
   "cell_type": "code",
   "execution_count": 168,
   "metadata": {},
   "outputs": [
    {
     "data": {
      "text/plain": [
       "16.59041166666667"
      ]
     },
     "execution_count": 168,
     "metadata": {},
     "output_type": "execute_result"
    }
   ],
   "source": [
    "lga_wind.mean()"
   ]
  },
  {
   "attachments": {},
   "cell_type": "markdown",
   "metadata": {},
   "source": [
    "So we now see that LaGuardia had the stongest average wind gust speed. Combining that with our knowledge that this airport also had the highest number of recordable windgusts, we can be relatively certain that this airport had the windiest conditions. \n",
    "\n",
    "Answer to question 3:\n",
    "\n",
    "On February 12th, 2013, which New York area airport had the windiest weather?\n",
    "LaGuardia"
   ]
  }
 ],
 "metadata": {
  "kernelspec": {
   "display_name": "Python 3 (ipykernel)",
   "language": "python",
   "name": "python3"
  },
  "language_info": {
   "codemirror_mode": {
    "name": "ipython",
    "version": 3
   },
   "file_extension": ".py",
   "mimetype": "text/x-python",
   "name": "python",
   "nbconvert_exporter": "python",
   "pygments_lexer": "ipython3",
   "version": "3.10.0"
  },
  "vscode": {
   "interpreter": {
    "hash": "aee8b7b246df8f9039afb4144a1f6fd8d2ca17a180786b69acc140d282b71a49"
   }
  }
 },
 "nbformat": 4,
 "nbformat_minor": 2
}
